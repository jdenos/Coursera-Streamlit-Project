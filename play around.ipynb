{
 "cells": [
  {
   "cell_type": "code",
   "execution_count": 3,
   "metadata": {
    "collapsed": true,
    "pycharm": {
     "name": "#%%\n"
    }
   },
   "outputs": [],
   "source": [
    "import pandas as pd\n",
    "import datetime as dt\n",
    "import numpy as np\n"
   ]
  },
  {
   "cell_type": "code",
   "execution_count": 4,
   "outputs": [],
   "source": [
    "def get_data(nrows=None):\n",
    "    data = pd.read_csv('https://data.cityofnewyork.us/resource/hhsa-x92p.csv', nrows=nrows, parse_dates=[['CRASH DATE', 'CRASH TIME']])\n",
    "    data.dropna(subset=['LATITUDE', 'LONGITUDE'], inplace=True)\n",
    "    data.rename(lambda x: str(x).lower(), axis='columns', inplace=True)\n",
    "    data.rename(columns={'crash date_crash time': 'date_time'}, inplace=True)\n",
    "    #data['time'] = data['date_time'].dt.time\n",
    "    data.reset_index(inplace=True, drop=True)\n",
    "    return data"
   ],
   "metadata": {
    "collapsed": false,
    "pycharm": {
     "name": "#%%\n"
    }
   }
  },
  {
   "cell_type": "code",
   "execution_count": 5,
   "outputs": [],
   "source": [
    "df=get_data(1000)"
   ],
   "metadata": {
    "collapsed": false,
    "pycharm": {
     "name": "#%%\n"
    }
   }
  },
  {
   "cell_type": "code",
   "execution_count": 7,
   "outputs": [
    {
     "data": {
      "text/plain": "            date_time        borough  zip code   latitude  longitude  \\\n0 2020-10-26 14:43:00       BROOKLYN   11236.0  40.638890  -73.91204   \n1 2020-10-26 09:00:00            NaN       NaN  40.671566  -73.79031   \n2 2020-10-26 04:30:00  STATEN ISLAND   10310.0  40.635250  -74.12633   \n3 2020-10-26 12:53:00            NaN       NaN  40.790840  -73.97457   \n4 2020-10-26 18:00:00         QUEENS   11432.0  40.712494  -73.78447   \n\n                 location                    on street name cross street name  \\\n0   (40.63889, -73.91204)  EAST 84 STREET                       GLENWOOD ROAD   \n1  (40.671566, -73.79031)  148 STREET                                     NaN   \n2   (40.63525, -74.12633)  CLOVE ROAD                           DEGROOT PLACE   \n3   (40.79084, -73.97457)  WEST 90 STREET                                 NaN   \n4  (40.712494, -73.78447)  179 STREET                         HILLSIDE AVENUE   \n\n  off street name  number of persons injured  ...  \\\n0             NaN                          0  ...   \n1             NaN                          0  ...   \n2             NaN                          0  ...   \n3             NaN                          0  ...   \n4             NaN                          1  ...   \n\n   contributing factor vehicle 2  contributing factor vehicle 3  \\\n0                    Unspecified                            NaN   \n1                            NaN                            NaN   \n2                    Unspecified                            NaN   \n3                    Unspecified                            NaN   \n4                    Unspecified                            NaN   \n\n   contributing factor vehicle 4  contributing factor vehicle 5  collision_id  \\\n0                            NaN                            NaN       4361473   \n1                            NaN                            NaN       4361515   \n2                            NaN                            NaN       4361572   \n3                            NaN                            NaN       4361384   \n4                            NaN                            NaN       4361735   \n\n                   vehicle type code 1                  vehicle type code 2  \\\n0  Station Wagon/Sport Utility Vehicle                                Sedan   \n1                                Sedan                                  NaN   \n2                                Sedan                                Sedan   \n3                                Sedan                                Sedan   \n4                                Sedan  Station Wagon/Sport Utility Vehicle   \n\n  vehicle type code 3 vehicle type code 4 vehicle type code 5  \n0                 NaN                 NaN                 NaN  \n1                 NaN                 NaN                 NaN  \n2                 NaN                 NaN                 NaN  \n3                 NaN                 NaN                 NaN  \n4                 NaN                 NaN                 NaN  \n\n[5 rows x 28 columns]",
      "text/html": "<div>\n<style scoped>\n    .dataframe tbody tr th:only-of-type {\n        vertical-align: middle;\n    }\n\n    .dataframe tbody tr th {\n        vertical-align: top;\n    }\n\n    .dataframe thead th {\n        text-align: right;\n    }\n</style>\n<table border=\"1\" class=\"dataframe\">\n  <thead>\n    <tr style=\"text-align: right;\">\n      <th></th>\n      <th>date_time</th>\n      <th>borough</th>\n      <th>zip code</th>\n      <th>latitude</th>\n      <th>longitude</th>\n      <th>location</th>\n      <th>on street name</th>\n      <th>cross street name</th>\n      <th>off street name</th>\n      <th>number of persons injured</th>\n      <th>...</th>\n      <th>contributing factor vehicle 2</th>\n      <th>contributing factor vehicle 3</th>\n      <th>contributing factor vehicle 4</th>\n      <th>contributing factor vehicle 5</th>\n      <th>collision_id</th>\n      <th>vehicle type code 1</th>\n      <th>vehicle type code 2</th>\n      <th>vehicle type code 3</th>\n      <th>vehicle type code 4</th>\n      <th>vehicle type code 5</th>\n    </tr>\n  </thead>\n  <tbody>\n    <tr>\n      <th>0</th>\n      <td>2020-10-26 14:43:00</td>\n      <td>BROOKLYN</td>\n      <td>11236.0</td>\n      <td>40.638890</td>\n      <td>-73.91204</td>\n      <td>(40.63889, -73.91204)</td>\n      <td>EAST 84 STREET</td>\n      <td>GLENWOOD ROAD</td>\n      <td>NaN</td>\n      <td>0</td>\n      <td>...</td>\n      <td>Unspecified</td>\n      <td>NaN</td>\n      <td>NaN</td>\n      <td>NaN</td>\n      <td>4361473</td>\n      <td>Station Wagon/Sport Utility Vehicle</td>\n      <td>Sedan</td>\n      <td>NaN</td>\n      <td>NaN</td>\n      <td>NaN</td>\n    </tr>\n    <tr>\n      <th>1</th>\n      <td>2020-10-26 09:00:00</td>\n      <td>NaN</td>\n      <td>NaN</td>\n      <td>40.671566</td>\n      <td>-73.79031</td>\n      <td>(40.671566, -73.79031)</td>\n      <td>148 STREET</td>\n      <td>NaN</td>\n      <td>NaN</td>\n      <td>0</td>\n      <td>...</td>\n      <td>NaN</td>\n      <td>NaN</td>\n      <td>NaN</td>\n      <td>NaN</td>\n      <td>4361515</td>\n      <td>Sedan</td>\n      <td>NaN</td>\n      <td>NaN</td>\n      <td>NaN</td>\n      <td>NaN</td>\n    </tr>\n    <tr>\n      <th>2</th>\n      <td>2020-10-26 04:30:00</td>\n      <td>STATEN ISLAND</td>\n      <td>10310.0</td>\n      <td>40.635250</td>\n      <td>-74.12633</td>\n      <td>(40.63525, -74.12633)</td>\n      <td>CLOVE ROAD</td>\n      <td>DEGROOT PLACE</td>\n      <td>NaN</td>\n      <td>0</td>\n      <td>...</td>\n      <td>Unspecified</td>\n      <td>NaN</td>\n      <td>NaN</td>\n      <td>NaN</td>\n      <td>4361572</td>\n      <td>Sedan</td>\n      <td>Sedan</td>\n      <td>NaN</td>\n      <td>NaN</td>\n      <td>NaN</td>\n    </tr>\n    <tr>\n      <th>3</th>\n      <td>2020-10-26 12:53:00</td>\n      <td>NaN</td>\n      <td>NaN</td>\n      <td>40.790840</td>\n      <td>-73.97457</td>\n      <td>(40.79084, -73.97457)</td>\n      <td>WEST 90 STREET</td>\n      <td>NaN</td>\n      <td>NaN</td>\n      <td>0</td>\n      <td>...</td>\n      <td>Unspecified</td>\n      <td>NaN</td>\n      <td>NaN</td>\n      <td>NaN</td>\n      <td>4361384</td>\n      <td>Sedan</td>\n      <td>Sedan</td>\n      <td>NaN</td>\n      <td>NaN</td>\n      <td>NaN</td>\n    </tr>\n    <tr>\n      <th>4</th>\n      <td>2020-10-26 18:00:00</td>\n      <td>QUEENS</td>\n      <td>11432.0</td>\n      <td>40.712494</td>\n      <td>-73.78447</td>\n      <td>(40.712494, -73.78447)</td>\n      <td>179 STREET</td>\n      <td>HILLSIDE AVENUE</td>\n      <td>NaN</td>\n      <td>1</td>\n      <td>...</td>\n      <td>Unspecified</td>\n      <td>NaN</td>\n      <td>NaN</td>\n      <td>NaN</td>\n      <td>4361735</td>\n      <td>Sedan</td>\n      <td>Station Wagon/Sport Utility Vehicle</td>\n      <td>NaN</td>\n      <td>NaN</td>\n      <td>NaN</td>\n    </tr>\n  </tbody>\n</table>\n<p>5 rows × 28 columns</p>\n</div>"
     },
     "execution_count": 7,
     "metadata": {},
     "output_type": "execute_result"
    }
   ],
   "source": [
    "df.head()"
   ],
   "metadata": {
    "collapsed": false,
    "pycharm": {
     "name": "#%%\n"
    }
   }
  },
  {
   "cell_type": "code",
   "execution_count": 9,
   "outputs": [],
   "source": [
    "injured_people=2\n",
    "time=[dt.time(12, 00), dt.time(20, 00)]\n",
    "date=[df['date_time'].dt.date.min(), df['date_time'].dt.date.max()]"
   ],
   "metadata": {
    "collapsed": false,
    "pycharm": {
     "name": "#%%\n"
    }
   }
  },
  {
   "cell_type": "code",
   "execution_count": 12,
   "outputs": [],
   "source": [
    "df_filtred = df[\n",
    "    (df['date_time'].dt.time >= time[0])\n",
    "    & (df['date_time'].dt.time <= time[1])\n",
    "    & (df['date_time'].dt.date >= date[0])\n",
    "    & (df['date_time'].dt.date <= date[1])]\\\n",
    "    .query('`number of persons injured` >= @injured_people')"
   ],
   "metadata": {
    "collapsed": false,
    "pycharm": {
     "name": "#%%\n"
    }
   }
  },
  {
   "cell_type": "code",
   "execution_count": null,
   "outputs": [],
   "source": [],
   "metadata": {
    "collapsed": false,
    "pycharm": {
     "name": "#%%\n"
    }
   }
  }
 ],
 "metadata": {
  "kernelspec": {
   "display_name": "Python 3",
   "language": "python",
   "name": "python3"
  },
  "language_info": {
   "codemirror_mode": {
    "name": "ipython",
    "version": 2
   },
   "file_extension": ".py",
   "mimetype": "text/x-python",
   "name": "python",
   "nbconvert_exporter": "python",
   "pygments_lexer": "ipython2",
   "version": "2.7.6"
  }
 },
 "nbformat": 4,
 "nbformat_minor": 0
}