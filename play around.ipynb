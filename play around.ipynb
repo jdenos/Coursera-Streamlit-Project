{
 "cells": [
  {
   "cell_type": "code",
   "execution_count": 15,
   "metadata": {
    "collapsed": true,
    "pycharm": {
     "name": "#%%\n"
    }
   },
   "outputs": [],
   "source": [
    "import pandas as pd\n",
    "import datetime as dt\n",
    "import numpy as np\n",
    "import pydeck as pdk\n"
   ]
  },
  {
   "cell_type": "code",
   "execution_count": 13,
   "outputs": [],
   "source": [
    "def get_data(nrows=None):\n",
    "    data = pd.read_csv('https://data.cityofnewyork.us/resource/hhsa-x92p.csv', nrows=nrows, parse_dates=[['CRASH DATE', 'CRASH TIME']])\n",
    "    data.dropna(subset=['LATITUDE', 'LONGITUDE'], inplace=True)\n",
    "    data.rename(lambda x: str(x).lower(), axis='columns', inplace=True)\n",
    "    data.rename(columns={'crash date_crash time': 'date_time'}, inplace=True)\n",
    "    #data['time'] = data['date_time'].dt.time\n",
    "    data.reset_index(inplace=True, drop=True)\n",
    "    return data"
   ],
   "metadata": {
    "collapsed": false,
    "pycharm": {
     "name": "#%%\n"
    }
   }
  },
  {
   "cell_type": "code",
   "execution_count": 14,
   "outputs": [],
   "source": [
    "df=get_data(10000)"
   ],
   "metadata": {
    "collapsed": false,
    "pycharm": {
     "name": "#%%\n"
    }
   }
  },
  {
   "cell_type": "code",
   "execution_count": 9,
   "outputs": [],
   "source": [
    "injured_people=2\n",
    "time=[dt.time(12, 00), dt.time(20, 00)]\n",
    "date=[df['date_time'].dt.date.min(), df['date_time'].dt.date.max()]"
   ],
   "metadata": {
    "collapsed": false,
    "pycharm": {
     "name": "#%%\n"
    }
   }
  },
  {
   "cell_type": "code",
   "execution_count": 12,
   "outputs": [],
   "source": [
    "df_filtred = df[\n",
    "    (df['date_time'].dt.time >= time[0])\n",
    "    & (df['date_time'].dt.time <= time[1])\n",
    "    & (df['date_time'].dt.date >= date[0])\n",
    "    & (df['date_time'].dt.date <= date[1])]\\\n",
    "    .query('`number of persons injured` >= @injured_people')"
   ],
   "metadata": {
    "collapsed": false,
    "pycharm": {
     "name": "#%%\n"
    }
   }
  },
  {
   "cell_type": "code",
   "execution_count": 16,
   "outputs": [
    {
     "name": "stderr",
     "output_type": "stream",
     "text": [
      "/Users/julien/opt/anaconda3/envs/Coursera-Streamlit-Project/lib/python3.8/site-packages/pydeck/bindings/deck.py:105: UserWarning: Mapbox API key is not set. This may impact available features of pydeck.\n",
      "  warnings.warn(\n"
     ]
    },
    {
     "data": {
      "text/plain": "{\"initialViewState\": {\"latitude\": 74.006, \"longitude\": 74.006, \"pitch\": 50, \"zoom\": 11}, \"layers\": [], \"mapProvider\": \"mapbox\", \"mapStyle\": \"mapbox://styles/mapbox/light-v9\", \"views\": [{\"@@type\": \"MapView\", \"controller\": true}]}"
     },
     "execution_count": 16,
     "metadata": {},
     "output_type": "execute_result"
    }
   ],
   "source": [
    "midpoint = (np.nanmean(df['latitude']), np.nanmean(df['longitude']))\n",
    "\n",
    "pdk.Deck(\n",
    "    map_style='mapbox://styles/mapbox/light-v9',\n",
    "    initial_view_state={\n",
    "        'latitude': 74.0060,\n",
    "        \"longitude\": 74.0060,\n",
    "        \"zoom\": 11,\n",
    "        \"pitch\": 50\n",
    "    }\n",
    ")\n",
    "\n"
   ],
   "metadata": {
    "collapsed": false,
    "pycharm": {
     "name": "#%%\n"
    }
   }
  }
 ],
 "metadata": {
  "kernelspec": {
   "display_name": "Python 3",
   "language": "python",
   "name": "python3"
  },
  "language_info": {
   "codemirror_mode": {
    "name": "ipython",
    "version": 2
   },
   "file_extension": ".py",
   "mimetype": "text/x-python",
   "name": "python",
   "nbconvert_exporter": "python",
   "pygments_lexer": "ipython2",
   "version": "2.7.6"
  }
 },
 "nbformat": 4,
 "nbformat_minor": 0
}